{
 "cells": [
  {
   "cell_type": "code",
   "execution_count": null,
   "id": "96feb0a9-9909-4db1-9fea-35cc59115d4a",
   "metadata": {},
   "outputs": [],
   "source": [
    "# Import necessary libraries\n",
    "import numpy as np\n",
    "import pandas as pd\n",
    "from sklearn.datasets import make_classification\n",
    "from sklearn.model_selection import train_test_split\n",
    "from sklearn.ensemble import RandomForestClassifier\n",
    "from sklearn.metrics import accuracy_score\n",
    "\n",
    "# Generate a synthetic dataset\n",
    "X, y = make_classification(n_samples=1000, n_features=20, random_state=42)\n",
    "\n",
    "# Split data into initial train and test sets, and then simulate new test sets over time\n",
    "X_train, X_initial_test, y_train, y_initial_test = train_test_split(X, y, test_size=0.3, random_state=42)\n",
    "\n",
    "# Initialize the classifier\n",
    "model = RandomForestClassifier(random_state=42)\n",
    "\n",
    "# Train the model on the initial training data\n",
    "model.fit(X_train, y_train)\n",
    "\n",
    "# Simulate \"new data over time\" by splitting the initial test set into multiple smaller batches\n",
    "test_batches = np.array_split(X_initial_test, 5)\n",
    "label_batches = np.array_split(y_initial_test, 5)\n",
    "\n",
    "# Track accuracy for each batch to calculate stability\n",
    "accuracies = []\n",
    "\n",
    "for i, (X_test_batch, y_test_batch) in enumerate(zip(test_batches, label_batches)):\n",
    "    # Predict on each batch to simulate performance over time\n",
    "    y_pred_batch = model.predict(X_test_batch)\n",
    "    accuracy = accuracy_score(y_test_batch, y_pred_batch)\n",
    "    accuracies.append(accuracy)\n",
    "    print(f\"Accuracy for batch {i+1}: {accuracy:.2f}\")\n",
    "\n",
    "# Calculate the Learning Stability Index (LSI) as the variance of accuracies across batches\n",
    "lsi = np.var(accuracies)\n",
    "print(f\"\\nLearning Stability Index (LSI): {lsi:.4f}\")\n",
    "\n",
    "# Display batch results and variance in a table for clarity\n",
    "results_df = pd.DataFrame({\n",
    "    'Batch': np.arange(1, len(accuracies) + 1),\n",
    "    'Accuracy': accuracies\n",
    "})\n",
    "print(\"\\nBatch-wise Accuracy Results:\\n\", results_df)\n",
    "\n",
    "# Explanation\n",
    "print(\"\\nExplanation of Learning Stability Index (LSI):\")\n",
    "print(\"The LSI measures how consistent the model's performance is across different data batches. Lower variance in accuracy across batches indicates higher stability in learning.\")\n"
   ]
  }
 ],
 "metadata": {
  "kernelspec": {
   "display_name": "Python 3 (ipykernel)",
   "language": "python",
   "name": "python3"
  },
  "language_info": {
   "codemirror_mode": {
    "name": "ipython",
    "version": 3
   },
   "file_extension": ".py",
   "mimetype": "text/x-python",
   "name": "python",
   "nbconvert_exporter": "python",
   "pygments_lexer": "ipython3",
   "version": "3.12.6"
  }
 },
 "nbformat": 4,
 "nbformat_minor": 5
}
